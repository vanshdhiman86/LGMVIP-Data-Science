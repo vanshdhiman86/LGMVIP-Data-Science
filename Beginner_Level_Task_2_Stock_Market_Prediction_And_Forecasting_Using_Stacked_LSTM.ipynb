{
 "cells": [
  {
   "cell_type": "markdown",
   "metadata": {
    "id": "r4vu6WrDon2F"
   },
   "source": [
    "## Vansh Dhiman - Data Science Intern at LetsGrowMore Virtual Internship Program (November-2021)\n",
    "\n",
    "## Beginner Level Task 2 - Stock Market Prediction And Forecasting Using Stacked LSTM\n",
    "\n",
    "## Algorithm Used - Stacked Long Short Term Memory"
   ]
  },
  {
   "cell_type": "markdown",
   "metadata": {
    "id": "3EZBnaoqo7j9"
   },
   "source": [
    "**Import the required libraries**"
   ]
  },
  {
   "cell_type": "code",
   "execution_count": 1,
   "metadata": {
    "id": "EUUwFUgnruI1"
   },
   "outputs": [],
   "source": [
    "import pandas as pd #for analysis and manipulation of numerical tables"
   ]
  },
  {
   "cell_type": "markdown",
   "metadata": {
    "id": "cmL3FZq7r17F"
   },
   "source": [
    "**Load the data**"
   ]
  },
  {
   "cell_type": "code",
   "execution_count": 3,
   "metadata": {
    "id": "365Jfqner3xs"
   },
   "outputs": [],
   "source": [
    "stock_data = pd.read_csv('stock.csv')"
   ]
  },
  {
   "cell_type": "code",
   "execution_count": 4,
   "metadata": {
    "colab": {
     "base_uri": "https://localhost:8080/",
     "height": 204
    },
    "id": "7biaFcyVsFEE",
    "outputId": "a6c6df61-a635-4b05-e020-dda59b978cbd"
   },
   "outputs": [
    {
     "data": {
      "text/html": [
       "<div>\n",
       "<style scoped>\n",
       "    .dataframe tbody tr th:only-of-type {\n",
       "        vertical-align: middle;\n",
       "    }\n",
       "\n",
       "    .dataframe tbody tr th {\n",
       "        vertical-align: top;\n",
       "    }\n",
       "\n",
       "    .dataframe thead th {\n",
       "        text-align: right;\n",
       "    }\n",
       "</style>\n",
       "<table border=\"1\" class=\"dataframe\">\n",
       "  <thead>\n",
       "    <tr style=\"text-align: right;\">\n",
       "      <th></th>\n",
       "      <th>Date</th>\n",
       "      <th>Open</th>\n",
       "      <th>High</th>\n",
       "      <th>Low</th>\n",
       "      <th>Last</th>\n",
       "      <th>Close</th>\n",
       "      <th>Total Trade Quantity</th>\n",
       "      <th>Turnover (Lacs)</th>\n",
       "    </tr>\n",
       "  </thead>\n",
       "  <tbody>\n",
       "    <tr>\n",
       "      <th>0</th>\n",
       "      <td>2018-09-28</td>\n",
       "      <td>234.05</td>\n",
       "      <td>235.95</td>\n",
       "      <td>230.20</td>\n",
       "      <td>233.50</td>\n",
       "      <td>233.75</td>\n",
       "      <td>3069914</td>\n",
       "      <td>7162.35</td>\n",
       "    </tr>\n",
       "    <tr>\n",
       "      <th>1</th>\n",
       "      <td>2018-09-27</td>\n",
       "      <td>234.55</td>\n",
       "      <td>236.80</td>\n",
       "      <td>231.10</td>\n",
       "      <td>233.80</td>\n",
       "      <td>233.25</td>\n",
       "      <td>5082859</td>\n",
       "      <td>11859.95</td>\n",
       "    </tr>\n",
       "    <tr>\n",
       "      <th>2</th>\n",
       "      <td>2018-09-26</td>\n",
       "      <td>240.00</td>\n",
       "      <td>240.00</td>\n",
       "      <td>232.50</td>\n",
       "      <td>235.00</td>\n",
       "      <td>234.25</td>\n",
       "      <td>2240909</td>\n",
       "      <td>5248.60</td>\n",
       "    </tr>\n",
       "    <tr>\n",
       "      <th>3</th>\n",
       "      <td>2018-09-25</td>\n",
       "      <td>233.30</td>\n",
       "      <td>236.75</td>\n",
       "      <td>232.00</td>\n",
       "      <td>236.25</td>\n",
       "      <td>236.10</td>\n",
       "      <td>2349368</td>\n",
       "      <td>5503.90</td>\n",
       "    </tr>\n",
       "    <tr>\n",
       "      <th>4</th>\n",
       "      <td>2018-09-24</td>\n",
       "      <td>233.55</td>\n",
       "      <td>239.20</td>\n",
       "      <td>230.75</td>\n",
       "      <td>234.00</td>\n",
       "      <td>233.30</td>\n",
       "      <td>3423509</td>\n",
       "      <td>7999.55</td>\n",
       "    </tr>\n",
       "  </tbody>\n",
       "</table>\n",
       "</div>"
      ],
      "text/plain": [
       "         Date    Open    High     Low    Last   Close  Total Trade Quantity  \\\n",
       "0  2018-09-28  234.05  235.95  230.20  233.50  233.75               3069914   \n",
       "1  2018-09-27  234.55  236.80  231.10  233.80  233.25               5082859   \n",
       "2  2018-09-26  240.00  240.00  232.50  235.00  234.25               2240909   \n",
       "3  2018-09-25  233.30  236.75  232.00  236.25  236.10               2349368   \n",
       "4  2018-09-24  233.55  239.20  230.75  234.00  233.30               3423509   \n",
       "\n",
       "   Turnover (Lacs)  \n",
       "0          7162.35  \n",
       "1         11859.95  \n",
       "2          5248.60  \n",
       "3          5503.90  \n",
       "4          7999.55  "
      ]
     },
     "execution_count": 4,
     "metadata": {},
     "output_type": "execute_result"
    }
   ],
   "source": [
    "stock_data.head()"
   ]
  },
  {
   "cell_type": "code",
   "execution_count": 5,
   "metadata": {
    "colab": {
     "base_uri": "https://localhost:8080/"
    },
    "id": "bernoBMZsS69",
    "outputId": "9e7366e0-dcbe-4f98-9348-31c6aedd12eb"
   },
   "outputs": [
    {
     "name": "stdout",
     "output_type": "stream",
     "text": [
      "Date                    0\n",
      "Open                    0\n",
      "High                    0\n",
      "Low                     0\n",
      "Last                    0\n",
      "Close                   0\n",
      "Total Trade Quantity    0\n",
      "Turnover (Lacs)         0\n",
      "dtype: int64\n"
     ]
    }
   ],
   "source": [
    "print(stock_data.isnull().sum())"
   ]
  },
  {
   "cell_type": "code",
   "execution_count": 6,
   "metadata": {
    "colab": {
     "base_uri": "https://localhost:8080/",
     "height": 297
    },
    "id": "fZFWSAFJsZe0",
    "outputId": "c3efce5e-343e-43a8-babb-1d346ce626b2"
   },
   "outputs": [
    {
     "data": {
      "text/html": [
       "<div>\n",
       "<style scoped>\n",
       "    .dataframe tbody tr th:only-of-type {\n",
       "        vertical-align: middle;\n",
       "    }\n",
       "\n",
       "    .dataframe tbody tr th {\n",
       "        vertical-align: top;\n",
       "    }\n",
       "\n",
       "    .dataframe thead th {\n",
       "        text-align: right;\n",
       "    }\n",
       "</style>\n",
       "<table border=\"1\" class=\"dataframe\">\n",
       "  <thead>\n",
       "    <tr style=\"text-align: right;\">\n",
       "      <th></th>\n",
       "      <th>Open</th>\n",
       "      <th>High</th>\n",
       "      <th>Low</th>\n",
       "      <th>Last</th>\n",
       "      <th>Close</th>\n",
       "      <th>Total Trade Quantity</th>\n",
       "      <th>Turnover (Lacs)</th>\n",
       "    </tr>\n",
       "  </thead>\n",
       "  <tbody>\n",
       "    <tr>\n",
       "      <th>count</th>\n",
       "      <td>2035.000000</td>\n",
       "      <td>2035.000000</td>\n",
       "      <td>2035.000000</td>\n",
       "      <td>2035.000000</td>\n",
       "      <td>2035.00000</td>\n",
       "      <td>2.035000e+03</td>\n",
       "      <td>2035.000000</td>\n",
       "    </tr>\n",
       "    <tr>\n",
       "      <th>mean</th>\n",
       "      <td>149.713735</td>\n",
       "      <td>151.992826</td>\n",
       "      <td>147.293931</td>\n",
       "      <td>149.474251</td>\n",
       "      <td>149.45027</td>\n",
       "      <td>2.335681e+06</td>\n",
       "      <td>3899.980565</td>\n",
       "    </tr>\n",
       "    <tr>\n",
       "      <th>std</th>\n",
       "      <td>48.664509</td>\n",
       "      <td>49.413109</td>\n",
       "      <td>47.931958</td>\n",
       "      <td>48.732570</td>\n",
       "      <td>48.71204</td>\n",
       "      <td>2.091778e+06</td>\n",
       "      <td>4570.767877</td>\n",
       "    </tr>\n",
       "    <tr>\n",
       "      <th>min</th>\n",
       "      <td>81.100000</td>\n",
       "      <td>82.800000</td>\n",
       "      <td>80.000000</td>\n",
       "      <td>81.000000</td>\n",
       "      <td>80.95000</td>\n",
       "      <td>3.961000e+04</td>\n",
       "      <td>37.040000</td>\n",
       "    </tr>\n",
       "    <tr>\n",
       "      <th>25%</th>\n",
       "      <td>120.025000</td>\n",
       "      <td>122.100000</td>\n",
       "      <td>118.300000</td>\n",
       "      <td>120.075000</td>\n",
       "      <td>120.05000</td>\n",
       "      <td>1.146444e+06</td>\n",
       "      <td>1427.460000</td>\n",
       "    </tr>\n",
       "    <tr>\n",
       "      <th>50%</th>\n",
       "      <td>141.500000</td>\n",
       "      <td>143.400000</td>\n",
       "      <td>139.600000</td>\n",
       "      <td>141.100000</td>\n",
       "      <td>141.25000</td>\n",
       "      <td>1.783456e+06</td>\n",
       "      <td>2512.030000</td>\n",
       "    </tr>\n",
       "    <tr>\n",
       "      <th>75%</th>\n",
       "      <td>157.175000</td>\n",
       "      <td>159.400000</td>\n",
       "      <td>155.150000</td>\n",
       "      <td>156.925000</td>\n",
       "      <td>156.90000</td>\n",
       "      <td>2.813594e+06</td>\n",
       "      <td>4539.015000</td>\n",
       "    </tr>\n",
       "    <tr>\n",
       "      <th>max</th>\n",
       "      <td>327.700000</td>\n",
       "      <td>328.750000</td>\n",
       "      <td>321.650000</td>\n",
       "      <td>325.950000</td>\n",
       "      <td>325.75000</td>\n",
       "      <td>2.919102e+07</td>\n",
       "      <td>55755.080000</td>\n",
       "    </tr>\n",
       "  </tbody>\n",
       "</table>\n",
       "</div>"
      ],
      "text/plain": [
       "              Open         High          Low         Last       Close  \\\n",
       "count  2035.000000  2035.000000  2035.000000  2035.000000  2035.00000   \n",
       "mean    149.713735   151.992826   147.293931   149.474251   149.45027   \n",
       "std      48.664509    49.413109    47.931958    48.732570    48.71204   \n",
       "min      81.100000    82.800000    80.000000    81.000000    80.95000   \n",
       "25%     120.025000   122.100000   118.300000   120.075000   120.05000   \n",
       "50%     141.500000   143.400000   139.600000   141.100000   141.25000   \n",
       "75%     157.175000   159.400000   155.150000   156.925000   156.90000   \n",
       "max     327.700000   328.750000   321.650000   325.950000   325.75000   \n",
       "\n",
       "       Total Trade Quantity  Turnover (Lacs)  \n",
       "count          2.035000e+03      2035.000000  \n",
       "mean           2.335681e+06      3899.980565  \n",
       "std            2.091778e+06      4570.767877  \n",
       "min            3.961000e+04        37.040000  \n",
       "25%            1.146444e+06      1427.460000  \n",
       "50%            1.783456e+06      2512.030000  \n",
       "75%            2.813594e+06      4539.015000  \n",
       "max            2.919102e+07     55755.080000  "
      ]
     },
     "execution_count": 6,
     "metadata": {},
     "output_type": "execute_result"
    }
   ],
   "source": [
    "stock_data.describe()"
   ]
  },
  {
   "cell_type": "code",
   "execution_count": 7,
   "metadata": {
    "id": "2Dhh3poWtAnL"
   },
   "outputs": [],
   "source": [
    "stock_data1 = stock_data.reset_index()['Close']"
   ]
  },
  {
   "cell_type": "code",
   "execution_count": 8,
   "metadata": {
    "colab": {
     "base_uri": "https://localhost:8080/"
    },
    "id": "U8IgSYwatSU3",
    "outputId": "5b9342c5-3a56-4f71-d49f-6475286f4b07"
   },
   "outputs": [
    {
     "data": {
      "text/plain": [
       "(2035,)"
      ]
     },
     "execution_count": 8,
     "metadata": {},
     "output_type": "execute_result"
    }
   ],
   "source": [
    "stock_data1.shape"
   ]
  },
  {
   "cell_type": "code",
   "execution_count": 9,
   "metadata": {
    "colab": {
     "base_uri": "https://localhost:8080/"
    },
    "id": "idFb9TcQtcKt",
    "outputId": "bd1a32c9-fe12-4546-903b-ac01737a3fa1"
   },
   "outputs": [
    {
     "data": {
      "text/plain": [
       "0       233.75\n",
       "1       233.25\n",
       "2       234.25\n",
       "3       236.10\n",
       "4       233.30\n",
       "         ...  \n",
       "2030    118.65\n",
       "2031    117.60\n",
       "2032    120.65\n",
       "2033    120.90\n",
       "2034    121.55\n",
       "Name: Close, Length: 2035, dtype: float64"
      ]
     },
     "execution_count": 9,
     "metadata": {},
     "output_type": "execute_result"
    }
   ],
   "source": [
    "stock_data1"
   ]
  },
  {
   "cell_type": "markdown",
   "metadata": {
    "id": "IZCXaKIitmc8"
   },
   "source": [
    "**Plot the dataframe**"
   ]
  },
  {
   "cell_type": "code",
   "execution_count": 10,
   "metadata": {
    "colab": {
     "base_uri": "https://localhost:8080/",
     "height": 282
    },
    "id": "M2dILNmptrE2",
    "outputId": "4184bb90-14a4-453a-a3b4-dcdf26d93c9c"
   },
   "outputs": [
    {
     "data": {
      "text/plain": [
       "[<matplotlib.lines.Line2D at 0x2042e959f08>]"
      ]
     },
     "execution_count": 10,
     "metadata": {},
     "output_type": "execute_result"
    },
    {
     "data": {
      "image/png": "[encoded data removed]",
      "text/plain": [
       "<Figure size 432x288 with 1 Axes>"
      ]
     },
     "metadata": {
      "needs_background": "light"
     },
     "output_type": "display_data"
    }
   ],
   "source": [
    "import matplotlib.pyplot as plt\n",
    "plt.plot(stock_data1)"
   ]
  },
  {
   "cell_type": "markdown",
   "metadata": {
    "id": "fpO1ZhHmt_iF"
   },
   "source": [
    "**Transform the data using MinMax Scaler**"
   ]
  },
  {
   "cell_type": "code",
   "execution_count": 11,
   "metadata": {
    "id": "3Sr_qrBLuGWd"
   },
   "outputs": [],
   "source": [
    "#We have to do this as LSTM is sensitive to the scale of the data\n",
    "import numpy as np\n",
    "from sklearn.preprocessing import MinMaxScaler\n",
    "scaler = MinMaxScaler(feature_range=(0,1))\n",
    "stock_data1 = scaler.fit_transform(np.array(stock_data1).reshape(-1,1))"
   ]
  },
  {
   "cell_type": "code",
   "execution_count": 12,
   "metadata": {
    "colab": {
     "base_uri": "https://localhost:8080/"
    },
    "id": "f-cm68QKuyus",
    "outputId": "b521cc2f-8aa0-4b23-dfed-d741d9d7f1ba"
   },
   "outputs": [
    {
     "data": {
      "text/plain": [
       "array([[0.62418301],\n",
       "       [0.62214052],\n",
       "       [0.62622549],\n",
       "       ...,\n",
       "       [0.1621732 ],\n",
       "       [0.16319444],\n",
       "       [0.16584967]])"
      ]
     },
     "execution_count": 12,
     "metadata": {},
     "output_type": "execute_result"
    }
   ],
   "source": [
    "stock_data1 #array has been transformed into values ranging from 0 to 1"
   ]
  },
  {
   "cell_type": "markdown",
   "metadata": {
    "id": "YjHz_hXWvZYu"
   },
   "source": [
    "**Split dataset into training and testing datasets**"
   ]
  },
  {
   "cell_type": "code",
   "execution_count": 13,
   "metadata": {
    "id": "ZWcC4ck4vhUu"
   },
   "outputs": [],
   "source": [
    "train_size = int(len(stock_data1)*0.65)\n",
    "test_size = len(stock_data1) - train_size\n",
    "train_data, test_data = stock_data1[0:train_size,:],stock_data1[train_size:len(stock_data1),:1]"
   ]
  },
  {
   "cell_type": "markdown",
   "metadata": {
    "id": "nLTvdCw4yAFe"
   },
   "source": [
    "**Preprocess the data**"
   ]
  },
  {
   "cell_type": "code",
   "execution_count": 14,
   "metadata": {
    "id": "KHoEHSUNyCjO"
   },
   "outputs": [],
   "source": [
    "import numpy as np\n",
    "def create_dataset(dataset, time_step=1):\n",
    "  x, y = [],[]\n",
    "  for i in range(len(dataset)-time_step-1):\n",
    "    a=dataset[i:(i+time_step),0]\n",
    "    x.append(a)\n",
    "    y.append(dataset[i+time_step,0])\n",
    "  return np.array(x),np.array(y)"
   ]
  },
  {
   "cell_type": "code",
   "execution_count": 15,
   "metadata": {
    "id": "wtePwqKAzPQW"
   },
   "outputs": [],
   "source": [
    "time_step = 100\n",
    "x_train, y_train = create_dataset(train_data, time_step)\n",
    "x_test, y_test = create_dataset(test_data, time_step)"
   ]
  },
  {
   "cell_type": "code",
   "execution_count": 16,
   "metadata": {
    "id": "Vio2T-uH0YIi"
   },
   "outputs": [],
   "source": [
    "#reshaping input for LSTM\n",
    "x_train = x_train.reshape(x_train.shape[0], x_train.shape[1], 1)\n",
    "x_test = x_test.reshape(x_test.shape[0], x_test.shape[1], 1)"
   ]
  },
  {
   "cell_type": "markdown",
   "metadata": {
    "id": "AJ8_nEL5026A"
   },
   "source": [
    "**Create the stacked LSTM Model**"
   ]
  },
  {
   "cell_type": "code",
   "execution_count": 19,
   "metadata": {
    "id": "kP_7XmjH09b_"
   },
   "outputs": [],
   "source": [
    "from tensorflow.keras.models import Sequential\n",
    "from tensorflow.keras.layers import Dense\n",
    "from tensorflow.keras.layers import LSTM"
   ]
  },
  {
   "cell_type": "code",
   "execution_count": 20,
   "metadata": {
    "id": "PlXmjku11a5v"
   },
   "outputs": [],
   "source": [
    "model = Sequential()\n",
    "#adding layers\n",
    "model.add(LSTM(50,return_sequences=True,input_shape=(100,1)))\n",
    "model.add(LSTM(50,return_sequences=True))\n",
    "model.add(LSTM(50))\n",
    "model.add(Dense(1))\n",
    "model.compile(loss='mean_squared_error',optimizer='adam')"
   ]
  },
  {
   "cell_type": "code",
   "execution_count": 21,
   "metadata": {
    "colab": {
     "base_uri": "https://localhost:8080/"
    },
    "id": "_cpsg4Gk2FbH",
    "outputId": "25ee934b-70b0-4dbf-be7b-164dc2fe5f48"
   },
   "outputs": [
    {
     "name": "stdout",
     "output_type": "stream",
     "text": [
      "Model: \"sequential\"\n",
      "_________________________________________________________________\n",
      " Layer (type)                Output Shape              Param #   \n",
      "=================================================================\n",
      " lstm (LSTM)                 (None, 100, 50)           10400     \n",
      "                                                                 \n",
      " lstm_1 (LSTM)               (None, 100, 50)           20200     \n",
      "                                                                 \n",
      " lstm_2 (LSTM)               (None, 50)                20200     \n",
      "                                                                 \n",
      " dense (Dense)               (None, 1)                 51        \n",
      "                                                                 \n",
      "=================================================================\n",
      "Total params: 50,851\n",
      "Trainable params: 50,851\n",
      "Non-trainable params: 0\n",
      "_________________________________________________________________\n"
     ]
    }
   ],
   "source": [
    "model.summary()"
   ]
  },
  {
   "cell_type": "markdown",
   "metadata": {
    "id": "oQqbR6Pn2Six"
   },
   "source": [
    "**Fit the model**"
   ]
  },
  {
   "cell_type": "code",
   "execution_count": 22,
   "metadata": {
    "colab": {
     "base_uri": "https://localhost:8080/"
    },
    "id": "w4mSWTvB2UHY",
    "outputId": "5c8cdfdc-3601-4214-ffb8-251c7537b924"
   },
   "outputs": [
    {
     "name": "stdout",
     "output_type": "stream",
     "text": [
      "Epoch 1/100\n",
      "20/20 [==============================] - 7s 190ms/step - loss: 0.0231 - val_loss: 0.0039\n",
      "Epoch 2/100\n",
      "20/20 [==============================] - 3s 132ms/step - loss: 0.0031 - val_loss: 8.8141e-04\n",
      "Epoch 3/100\n",
      "20/20 [==============================] - 2s 116ms/step - loss: 0.0020 - val_loss: 8.5797e-04\n",
      "Epoch 4/100\n",
      "20/20 [==============================] - 2s 116ms/step - loss: 0.0018 - val_loss: 9.7551e-04\n",
      "Epoch 5/100\n",
      "20/20 [==============================] - 2s 113ms/step - loss: 0.0016 - val_loss: 0.0011\n",
      "Epoch 6/100\n",
      "20/20 [==============================] - 2s 115ms/step - loss: 0.0015 - val_loss: 9.4246e-04\n",
      "Epoch 7/100\n",
      "20/20 [==============================] - 2s 116ms/step - loss: 0.0015 - val_loss: 0.0010\n",
      "Epoch 8/100\n",
      "20/20 [==============================] - 2s 114ms/step - loss: 0.0014 - val_loss: 8.2483e-04\n",
      "Epoch 9/100\n",
      "20/20 [==============================] - 2s 110ms/step - loss: 0.0012 - val_loss: 8.4355e-04\n",
      "Epoch 10/100\n",
      "20/20 [==============================] - 2s 114ms/step - loss: 0.0012 - val_loss: 7.6403e-04\n",
      "Epoch 11/100\n",
      "20/20 [==============================] - 2s 125ms/step - loss: 0.0012 - val_loss: 8.9315e-04\n",
      "Epoch 12/100\n",
      "20/20 [==============================] - 2s 116ms/step - loss: 0.0012 - val_loss: 0.0010\n",
      "Epoch 13/100\n",
      "20/20 [==============================] - 2s 115ms/step - loss: 0.0011 - val_loss: 8.0398e-04\n",
      "Epoch 14/100\n",
      "20/20 [==============================] - 2s 117ms/step - loss: 9.7947e-04 - val_loss: 7.5200e-04\n",
      "Epoch 15/100\n",
      "20/20 [==============================] - 2s 119ms/step - loss: 9.7324e-04 - val_loss: 8.9017e-04\n",
      "Epoch 16/100\n",
      "20/20 [==============================] - 2s 114ms/step - loss: 8.9263e-04 - val_loss: 8.8261e-04\n",
      "Epoch 17/100\n",
      "20/20 [==============================] - 2s 114ms/step - loss: 9.1646e-04 - val_loss: 9.3640e-04\n",
      "Epoch 18/100\n",
      "20/20 [==============================] - 2s 122ms/step - loss: 8.6476e-04 - val_loss: 7.2548e-04\n",
      "Epoch 19/100\n",
      "20/20 [==============================] - 2s 123ms/step - loss: 8.7546e-04 - val_loss: 7.1070e-04\n",
      "Epoch 20/100\n",
      "20/20 [==============================] - 2s 120ms/step - loss: 8.7615e-04 - val_loss: 8.6349e-04\n",
      "Epoch 21/100\n",
      "20/20 [==============================] - 2s 118ms/step - loss: 7.4551e-04 - val_loss: 0.0011\n",
      "Epoch 22/100\n",
      "20/20 [==============================] - 2s 113ms/step - loss: 0.0011 - val_loss: 0.0011\n",
      "Epoch 23/100\n",
      "20/20 [==============================] - 2s 117ms/step - loss: 0.0014 - val_loss: 5.9259e-04\n",
      "Epoch 24/100\n",
      "20/20 [==============================] - 2s 113ms/step - loss: 0.0010 - val_loss: 6.6913e-04\n",
      "Epoch 25/100\n",
      "20/20 [==============================] - 2s 113ms/step - loss: 7.3924e-04 - val_loss: 7.5332e-04\n",
      "Epoch 26/100\n",
      "20/20 [==============================] - 2s 114ms/step - loss: 6.7026e-04 - val_loss: 6.4273e-04\n",
      "Epoch 27/100\n",
      "20/20 [==============================] - 2s 113ms/step - loss: 6.7121e-04 - val_loss: 6.4277e-04\n",
      "Epoch 28/100\n",
      "20/20 [==============================] - 2s 113ms/step - loss: 7.4986e-04 - val_loss: 9.5649e-04\n",
      "Epoch 29/100\n",
      "20/20 [==============================] - 2s 115ms/step - loss: 6.6465e-04 - val_loss: 6.1523e-04\n",
      "Epoch 30/100\n",
      "20/20 [==============================] - 2s 112ms/step - loss: 6.3847e-04 - val_loss: 6.9439e-04\n",
      "Epoch 31/100\n",
      "20/20 [==============================] - 2s 114ms/step - loss: 6.4374e-04 - val_loss: 5.6169e-04\n",
      "Epoch 32/100\n",
      "20/20 [==============================] - 2s 116ms/step - loss: 6.5045e-04 - val_loss: 5.3164e-04\n",
      "Epoch 33/100\n",
      "20/20 [==============================] - 2s 119ms/step - loss: 6.5542e-04 - val_loss: 6.7222e-04\n",
      "Epoch 34/100\n",
      "20/20 [==============================] - 2s 111ms/step - loss: 5.7777e-04 - val_loss: 6.2024e-04\n",
      "Epoch 35/100\n",
      "20/20 [==============================] - 2s 116ms/step - loss: 5.5763e-04 - val_loss: 7.0677e-04\n",
      "Epoch 36/100\n",
      "20/20 [==============================] - 2s 121ms/step - loss: 5.8460e-04 - val_loss: 5.7570e-04\n",
      "Epoch 37/100\n",
      "20/20 [==============================] - 2s 110ms/step - loss: 5.3810e-04 - val_loss: 4.9873e-04\n",
      "Epoch 38/100\n",
      "20/20 [==============================] - 2s 118ms/step - loss: 5.7631e-04 - val_loss: 4.8181e-04\n",
      "Epoch 39/100\n",
      "20/20 [==============================] - 2s 119ms/step - loss: 5.8990e-04 - val_loss: 5.2529e-04\n",
      "Epoch 40/100\n",
      "20/20 [==============================] - 2s 112ms/step - loss: 5.4060e-04 - val_loss: 6.4016e-04\n",
      "Epoch 41/100\n",
      "20/20 [==============================] - 2s 116ms/step - loss: 5.2982e-04 - val_loss: 5.2994e-04\n",
      "Epoch 42/100\n",
      "20/20 [==============================] - 2s 114ms/step - loss: 5.3055e-04 - val_loss: 5.2795e-04\n",
      "Epoch 43/100\n",
      "20/20 [==============================] - 2s 117ms/step - loss: 4.9374e-04 - val_loss: 4.8357e-04\n",
      "Epoch 44/100\n",
      "20/20 [==============================] - 2s 111ms/step - loss: 5.1995e-04 - val_loss: 6.2090e-04\n",
      "Epoch 45/100\n",
      "20/20 [==============================] - 2s 120ms/step - loss: 4.8666e-04 - val_loss: 4.1868e-04\n",
      "Epoch 46/100\n",
      "20/20 [==============================] - 2s 112ms/step - loss: 6.0300e-04 - val_loss: 4.3865e-04\n",
      "Epoch 47/100\n",
      "20/20 [==============================] - 2s 122ms/step - loss: 4.6059e-04 - val_loss: 4.4184e-04\n",
      "Epoch 48/100\n",
      "20/20 [==============================] - 2s 112ms/step - loss: 4.6400e-04 - val_loss: 5.8006e-04\n",
      "Epoch 49/100\n",
      "20/20 [==============================] - 2s 111ms/step - loss: 5.0375e-04 - val_loss: 4.1612e-04\n",
      "Epoch 50/100\n",
      "20/20 [==============================] - 2s 112ms/step - loss: 5.4344e-04 - val_loss: 5.8847e-04\n",
      "Epoch 51/100\n",
      "20/20 [==============================] - 2s 113ms/step - loss: 4.8474e-04 - val_loss: 3.9458e-04\n",
      "Epoch 52/100\n",
      "20/20 [==============================] - 2s 112ms/step - loss: 4.8479e-04 - val_loss: 4.8893e-04\n",
      "Epoch 53/100\n",
      "20/20 [==============================] - 2s 116ms/step - loss: 4.7853e-04 - val_loss: 3.8741e-04\n",
      "Epoch 54/100\n",
      "20/20 [==============================] - 2s 113ms/step - loss: 4.8004e-04 - val_loss: 4.8348e-04\n",
      "Epoch 55/100\n",
      "20/20 [==============================] - 2s 113ms/step - loss: 4.1388e-04 - val_loss: 5.0732e-04\n",
      "Epoch 56/100\n",
      "20/20 [==============================] - 2s 113ms/step - loss: 4.0821e-04 - val_loss: 4.0750e-04\n",
      "Epoch 57/100\n",
      "20/20 [==============================] - 2s 116ms/step - loss: 3.8240e-04 - val_loss: 4.9845e-04\n",
      "Epoch 58/100\n",
      "20/20 [==============================] - 2s 118ms/step - loss: 4.4383e-04 - val_loss: 4.6997e-04\n",
      "Epoch 59/100\n",
      "20/20 [==============================] - 2s 122ms/step - loss: 3.9734e-04 - val_loss: 6.6311e-04\n",
      "Epoch 60/100\n",
      "20/20 [==============================] - 2s 113ms/step - loss: 5.0794e-04 - val_loss: 3.6447e-04\n",
      "Epoch 61/100\n",
      "20/20 [==============================] - 2s 116ms/step - loss: 4.4409e-04 - val_loss: 4.0983e-04\n",
      "Epoch 62/100\n",
      "20/20 [==============================] - 2s 112ms/step - loss: 3.5647e-04 - val_loss: 3.1715e-04\n",
      "Epoch 63/100\n",
      "20/20 [==============================] - 2s 114ms/step - loss: 3.6530e-04 - val_loss: 3.4728e-04\n",
      "Epoch 64/100\n",
      "20/20 [==============================] - 2s 120ms/step - loss: 3.6291e-04 - val_loss: 4.6256e-04\n",
      "Epoch 65/100\n",
      "20/20 [==============================] - 2s 121ms/step - loss: 3.7180e-04 - val_loss: 3.9323e-04\n",
      "Epoch 66/100\n",
      "20/20 [==============================] - 2s 114ms/step - loss: 3.3997e-04 - val_loss: 2.8656e-04\n",
      "Epoch 67/100\n",
      "20/20 [==============================] - 2s 118ms/step - loss: 3.5937e-04 - val_loss: 2.8637e-04\n",
      "Epoch 68/100\n",
      "20/20 [==============================] - 2s 117ms/step - loss: 4.0945e-04 - val_loss: 3.4664e-04\n",
      "Epoch 69/100\n",
      "20/20 [==============================] - 2s 118ms/step - loss: 3.3666e-04 - val_loss: 3.1927e-04\n",
      "Epoch 70/100\n",
      "20/20 [==============================] - 2s 115ms/step - loss: 3.1683e-04 - val_loss: 3.8902e-04\n",
      "Epoch 71/100\n",
      "20/20 [==============================] - 2s 115ms/step - loss: 3.6281e-04 - val_loss: 2.6747e-04\n",
      "Epoch 72/100\n",
      "20/20 [==============================] - 2s 111ms/step - loss: 3.1411e-04 - val_loss: 2.6399e-04\n",
      "Epoch 73/100\n",
      "20/20 [==============================] - 2s 115ms/step - loss: 3.2424e-04 - val_loss: 3.5821e-04\n",
      "Epoch 74/100\n",
      "20/20 [==============================] - 2s 118ms/step - loss: 3.1723e-04 - val_loss: 3.2654e-04\n",
      "Epoch 75/100\n",
      "20/20 [==============================] - 2s 114ms/step - loss: 3.3084e-04 - val_loss: 2.8799e-04\n",
      "Epoch 76/100\n"
     ]
    },
    {
     "name": "stdout",
     "output_type": "stream",
     "text": [
      "20/20 [==============================] - 2s 115ms/step - loss: 3.1380e-04 - val_loss: 3.3667e-04\n",
      "Epoch 77/100\n",
      "20/20 [==============================] - 2s 114ms/step - loss: 3.3458e-04 - val_loss: 4.3138e-04\n",
      "Epoch 78/100\n",
      "20/20 [==============================] - 2s 115ms/step - loss: 3.8874e-04 - val_loss: 2.5485e-04\n",
      "Epoch 79/100\n",
      "20/20 [==============================] - 2s 111ms/step - loss: 3.0236e-04 - val_loss: 3.0107e-04\n",
      "Epoch 80/100\n",
      "20/20 [==============================] - 2s 118ms/step - loss: 3.6050e-04 - val_loss: 2.6334e-04\n",
      "Epoch 81/100\n",
      "20/20 [==============================] - 2s 114ms/step - loss: 3.4222e-04 - val_loss: 2.4807e-04\n",
      "Epoch 82/100\n",
      "20/20 [==============================] - 2s 109ms/step - loss: 2.7807e-04 - val_loss: 2.6691e-04\n",
      "Epoch 83/100\n",
      "20/20 [==============================] - 2s 110ms/step - loss: 3.1185e-04 - val_loss: 2.1418e-04\n",
      "Epoch 84/100\n",
      "20/20 [==============================] - 2s 112ms/step - loss: 2.6628e-04 - val_loss: 2.3919e-04\n",
      "Epoch 85/100\n",
      "20/20 [==============================] - 2s 110ms/step - loss: 4.4344e-04 - val_loss: 3.6579e-04\n",
      "Epoch 86/100\n",
      "20/20 [==============================] - 2s 118ms/step - loss: 2.9597e-04 - val_loss: 2.2011e-04\n",
      "Epoch 87/100\n",
      "20/20 [==============================] - 2s 111ms/step - loss: 3.0707e-04 - val_loss: 2.3073e-04\n",
      "Epoch 88/100\n",
      "20/20 [==============================] - 2s 111ms/step - loss: 2.5476e-04 - val_loss: 2.4603e-04\n",
      "Epoch 89/100\n",
      "20/20 [==============================] - 2s 110ms/step - loss: 2.5472e-04 - val_loss: 2.8599e-04\n",
      "Epoch 90/100\n",
      "20/20 [==============================] - 2s 115ms/step - loss: 3.0036e-04 - val_loss: 2.0740e-04\n",
      "Epoch 91/100\n",
      "20/20 [==============================] - 2s 115ms/step - loss: 2.5173e-04 - val_loss: 2.3830e-04\n",
      "Epoch 92/100\n",
      "20/20 [==============================] - 2s 112ms/step - loss: 2.5557e-04 - val_loss: 3.4754e-04\n",
      "Epoch 93/100\n",
      "20/20 [==============================] - 2s 119ms/step - loss: 2.4791e-04 - val_loss: 2.1489e-04\n",
      "Epoch 94/100\n",
      "20/20 [==============================] - 2s 116ms/step - loss: 2.3072e-04 - val_loss: 2.5926e-04\n",
      "Epoch 95/100\n",
      "20/20 [==============================] - 2s 115ms/step - loss: 2.6491e-04 - val_loss: 3.3742e-04\n",
      "Epoch 96/100\n",
      "20/20 [==============================] - 2s 112ms/step - loss: 4.3546e-04 - val_loss: 3.5784e-04\n",
      "Epoch 97/100\n",
      "20/20 [==============================] - 2s 113ms/step - loss: 2.9226e-04 - val_loss: 2.1060e-04\n",
      "Epoch 98/100\n",
      "20/20 [==============================] - 2s 116ms/step - loss: 2.6599e-04 - val_loss: 1.9716e-04\n",
      "Epoch 99/100\n",
      "20/20 [==============================] - 2s 114ms/step - loss: 2.8051e-04 - val_loss: 1.9927e-04\n",
      "Epoch 100/100\n",
      "20/20 [==============================] - 2s 124ms/step - loss: 2.2340e-04 - val_loss: 1.9820e-04\n"
     ]
    },
    {
     "data": {
      "text/plain": [
       "<keras.callbacks.History at 0x2043ca18e88>"
      ]
     },
     "execution_count": 22,
     "metadata": {},
     "output_type": "execute_result"
    }
   ],
   "source": [
    "model.fit(x_train,y_train,validation_data=(x_test,y_test),epochs=100,batch_size=64,verbose=1)"
   ]
  },
  {
   "cell_type": "markdown",
   "metadata": {
    "id": "AuuaV-v49yLh"
   },
   "source": [
    "**Generate Predictions**"
   ]
  },
  {
   "cell_type": "code",
   "execution_count": 23,
   "metadata": {
    "id": "BznweYWa92l6"
   },
   "outputs": [],
   "source": [
    "import tensorflow as tf #importing the tensorflow library to predict\n",
    "train_prediction = model.predict(x_train)\n",
    "test_prediction = model.predict(x_test)"
   ]
  },
  {
   "cell_type": "markdown",
   "metadata": {
    "id": "UQOzbXw9-TPm"
   },
   "source": [
    "**Transform back to original form using reverse scaling**"
   ]
  },
  {
   "cell_type": "code",
   "execution_count": 24,
   "metadata": {
    "id": "5J9rOVNC-kS5"
   },
   "outputs": [],
   "source": [
    "train_prediction = scaler.inverse_transform(train_prediction)\n",
    "test_prediction = scaler.inverse_transform(test_prediction)"
   ]
  },
  {
   "cell_type": "markdown",
   "metadata": {
    "id": "YGKiJrPV_I1f"
   },
   "source": [
    "**Calculate RMSE (Root Mean Square Error)**"
   ]
  },
  {
   "cell_type": "code",
   "execution_count": 25,
   "metadata": {
    "colab": {
     "base_uri": "https://localhost:8080/"
    },
    "id": "H3kS-OkWlBLQ",
    "outputId": "9cac3035-f824-4d4f-c787-e4921446810d"
   },
   "outputs": [
    {
     "data": {
      "text/plain": [
       "166.2772215045135"
      ]
     },
     "execution_count": 25,
     "metadata": {},
     "output_type": "execute_result"
    }
   ],
   "source": [
    "import math\n",
    "from sklearn.metrics import mean_squared_error\n",
    "math.sqrt(mean_squared_error(y_train,train_prediction)) #for training data\n"
   ]
  },
  {
   "cell_type": "code",
   "execution_count": 26,
   "metadata": {
    "colab": {
     "base_uri": "https://localhost:8080/"
    },
    "id": "aNp1QRjNmnR0",
    "outputId": "0e8fcdb8-f989-455b-abf5-03f903253e0e"
   },
   "outputs": [
    {
     "data": {
      "text/plain": [
       "115.77841954761602"
      ]
     },
     "execution_count": 26,
     "metadata": {},
     "output_type": "execute_result"
    }
   ],
   "source": [
    "math.sqrt(mean_squared_error(y_test,test_prediction)) #for testing data"
   ]
  },
  {
   "cell_type": "markdown",
   "metadata": {
    "id": "5k3epyKCpTUU"
   },
   "source": [
    "**Shift predictions for plotting**"
   ]
  },
  {
   "cell_type": "code",
   "execution_count": 27,
   "metadata": {
    "id": "ae1sTHjBpZJ3"
   },
   "outputs": [],
   "source": [
    "look_back=100\n",
    "trainPredictionPlot = np.empty_like(stock_data1) #shifting training predictions\n",
    "trainPredictionPlot[:, :] = np.nan\n",
    "trainPredictionPlot[look_back:len(train_prediction)+look_back, :] = train_prediction\n",
    "testPredictionPlot = np.empty_like(stock_data1) #shifting test predictions\n",
    "testPredictionPlot[:, :] = np.nan\n",
    "testPredictionPlot[len(train_prediction)+(look_back*2)+1:len(stock_data1)-1, :] = test_prediction"
   ]
  },
  {
   "cell_type": "code",
   "execution_count": 28,
   "metadata": {
    "colab": {
     "base_uri": "https://localhost:8080/",
     "height": 265
    },
    "id": "HOCGkpL8qPEr",
    "outputId": "f219d4a5-b63b-4a2d-f399-3d5a784b4be6"
   },
   "outputs": [
    {
     "data": {
      "image/png": "[encoded data removed]",
      "text/plain": [
       "<Figure size 432x288 with 1 Axes>"
      ]
     },
     "metadata": {
      "needs_background": "light"
     },
     "output_type": "display_data"
    }
   ],
   "source": [
    "plt.plot(scaler.inverse_transform(stock_data1))\n",
    "plt.plot(trainPredictionPlot)\n",
    "plt.plot(testPredictionPlot)\n",
    "plt.show()"
   ]
  },
  {
   "cell_type": "code",
   "execution_count": 29,
   "metadata": {
    "colab": {
     "base_uri": "https://localhost:8080/"
    },
    "id": "bAQfanshCSVs",
    "outputId": "574cbdc3-208e-4939-e30d-5190da7f70f5"
   },
   "outputs": [
    {
     "data": {
      "text/plain": [
       "713"
      ]
     },
     "execution_count": 29,
     "metadata": {},
     "output_type": "execute_result"
    }
   ],
   "source": [
    "len(test_data)"
   ]
  },
  {
   "cell_type": "code",
   "execution_count": 30,
   "metadata": {
    "colab": {
     "base_uri": "https://localhost:8080/"
    },
    "id": "pBzPfMEoq9ID",
    "outputId": "56297b81-6d59-4ed5-c7df-f8f1a6c063d3"
   },
   "outputs": [
    {
     "data": {
      "text/plain": [
       "(1, 100)"
      ]
     },
     "execution_count": 30,
     "metadata": {},
     "output_type": "execute_result"
    }
   ],
   "source": [
    "x_input=test_data[613:].reshape(1,-1)\n",
    "x_input.shape"
   ]
  },
  {
   "cell_type": "code",
   "execution_count": 31,
   "metadata": {
    "id": "g9V90L6_r08F"
   },
   "outputs": [],
   "source": [
    "temp_input=list(x_input)\n",
    "temp_input=temp_input[0].tolist()"
   ]
  },
  {
   "cell_type": "markdown",
   "metadata": {
    "id": "5U_SF-aLr64H"
   },
   "source": [
    "**Prediction for next 30 days**"
   ]
  },
  {
   "cell_type": "code",
   "execution_count": 32,
   "metadata": {
    "colab": {
     "base_uri": "https://localhost:8080/"
    },
    "id": "rECkxTWQu3GH",
    "outputId": "6a98527a-ec52-4d07-adc1-52760e11aa27"
   },
   "outputs": [
    {
     "name": "stdout",
     "output_type": "stream",
     "text": [
      "[0.1647903]\n",
      "101\n",
      "2 day input [0.13848039 0.14011438 0.13888889 0.13541667 0.14011438 0.1380719\n",
      " 0.13071895 0.13071895 0.12867647 0.11846405 0.14644608 0.14808007\n",
      " 0.15910948 0.15992647 0.15788399 0.16441993 0.17892157 0.17933007\n",
      " 0.19260621 0.20812908 0.18974673 0.18055556 0.18239379 0.17708333\n",
      " 0.17810458 0.18055556 0.17810458 0.17851307 0.19607843 0.18913399\n",
      " 0.18954248 0.19403595 0.19444444 0.20200163 0.19771242 0.19934641\n",
      " 0.19873366 0.1997549  0.2128268  0.21568627 0.20445261 0.21772876\n",
      " 0.21098856 0.21425654 0.19750817 0.18811275 0.17851307 0.17381536\n",
      " 0.16033497 0.16564542 0.17116013 0.17422386 0.18035131 0.17401961\n",
      " 0.16278595 0.16973039 0.17810458 0.17034314 0.16830065 0.17279412\n",
      " 0.17544935 0.18382353 0.19138072 0.18913399 0.19097222 0.17238562\n",
      " 0.16830065 0.1693219  0.17177288 0.16156046 0.14971405 0.1503268\n",
      " 0.15196078 0.14726307 0.14501634 0.14603758 0.12479575 0.13112745\n",
      " 0.11397059 0.1190768  0.12377451 0.13562092 0.12908497 0.13459967\n",
      " 0.12806373 0.13031046 0.12724673 0.13521242 0.14522059 0.15257353\n",
      " 0.14848856 0.14338235 0.14562908 0.15236928 0.15400327 0.14971405\n",
      " 0.1621732  0.16319444 0.16584967 0.1647903 ]\n",
      "2 day output [[0.16679534]]\n",
      "3 day input [0.14011438 0.13888889 0.13541667 0.14011438 0.1380719  0.13071895\n",
      " 0.13071895 0.12867647 0.11846405 0.14644608 0.14808007 0.15910948\n",
      " 0.15992647 0.15788399 0.16441993 0.17892157 0.17933007 0.19260621\n",
      " 0.20812908 0.18974673 0.18055556 0.18239379 0.17708333 0.17810458\n",
      " 0.18055556 0.17810458 0.17851307 0.19607843 0.18913399 0.18954248\n",
      " 0.19403595 0.19444444 0.20200163 0.19771242 0.19934641 0.19873366\n",
      " 0.1997549  0.2128268  0.21568627 0.20445261 0.21772876 0.21098856\n",
      " 0.21425654 0.19750817 0.18811275 0.17851307 0.17381536 0.16033497\n",
      " 0.16564542 0.17116013 0.17422386 0.18035131 0.17401961 0.16278595\n",
      " 0.16973039 0.17810458 0.17034314 0.16830065 0.17279412 0.17544935\n",
      " 0.18382353 0.19138072 0.18913399 0.19097222 0.17238562 0.16830065\n",
      " 0.1693219  0.17177288 0.16156046 0.14971405 0.1503268  0.15196078\n",
      " 0.14726307 0.14501634 0.14603758 0.12479575 0.13112745 0.11397059\n",
      " 0.1190768  0.12377451 0.13562092 0.12908497 0.13459967 0.12806373\n",
      " 0.13031046 0.12724673 0.13521242 0.14522059 0.15257353 0.14848856\n",
      " 0.14338235 0.14562908 0.15236928 0.15400327 0.14971405 0.1621732\n",
      " 0.16319444 0.16584967 0.1647903  0.16679534]\n",
      "3 day output [[0.16770126]]\n",
      "4 day input [0.13888889 0.13541667 0.14011438 0.1380719  0.13071895 0.13071895\n",
      " 0.12867647 0.11846405 0.14644608 0.14808007 0.15910948 0.15992647\n",
      " 0.15788399 0.16441993 0.17892157 0.17933007 0.19260621 0.20812908\n",
      " 0.18974673 0.18055556 0.18239379 0.17708333 0.17810458 0.18055556\n",
      " 0.17810458 0.17851307 0.19607843 0.18913399 0.18954248 0.19403595\n",
      " 0.19444444 0.20200163 0.19771242 0.19934641 0.19873366 0.1997549\n",
      " 0.2128268  0.21568627 0.20445261 0.21772876 0.21098856 0.21425654\n",
      " 0.19750817 0.18811275 0.17851307 0.17381536 0.16033497 0.16564542\n",
      " 0.17116013 0.17422386 0.18035131 0.17401961 0.16278595 0.16973039\n",
      " 0.17810458 0.17034314 0.16830065 0.17279412 0.17544935 0.18382353\n",
      " 0.19138072 0.18913399 0.19097222 0.17238562 0.16830065 0.1693219\n",
      " 0.17177288 0.16156046 0.14971405 0.1503268  0.15196078 0.14726307\n",
      " 0.14501634 0.14603758 0.12479575 0.13112745 0.11397059 0.1190768\n",
      " 0.12377451 0.13562092 0.12908497 0.13459967 0.12806373 0.13031046\n",
      " 0.12724673 0.13521242 0.14522059 0.15257353 0.14848856 0.14338235\n",
      " 0.14562908 0.15236928 0.15400327 0.14971405 0.1621732  0.16319444\n",
      " 0.16584967 0.1647903  0.16679534 0.16770126]\n",
      "4 day output [[0.1681546]]\n",
      "5 day input [0.13541667 0.14011438 0.1380719  0.13071895 0.13071895 0.12867647\n",
      " 0.11846405 0.14644608 0.14808007 0.15910948 0.15992647 0.15788399\n",
      " 0.16441993 0.17892157 0.17933007 0.19260621 0.20812908 0.18974673\n",
      " 0.18055556 0.18239379 0.17708333 0.17810458 0.18055556 0.17810458\n",
      " 0.17851307 0.19607843 0.18913399 0.18954248 0.19403595 0.19444444\n",
      " 0.20200163 0.19771242 0.19934641 0.19873366 0.1997549  0.2128268\n",
      " 0.21568627 0.20445261 0.21772876 0.21098856 0.21425654 0.19750817\n",
      " 0.18811275 0.17851307 0.17381536 0.16033497 0.16564542 0.17116013\n",
      " 0.17422386 0.18035131 0.17401961 0.16278595 0.16973039 0.17810458\n",
      " 0.17034314 0.16830065 0.17279412 0.17544935 0.18382353 0.19138072\n",
      " 0.18913399 0.19097222 0.17238562 0.16830065 0.1693219  0.17177288\n",
      " 0.16156046 0.14971405 0.1503268  0.15196078 0.14726307 0.14501634\n",
      " 0.14603758 0.12479575 0.13112745 0.11397059 0.1190768  0.12377451\n",
      " 0.13562092 0.12908497 0.13459967 0.12806373 0.13031046 0.12724673\n",
      " 0.13521242 0.14522059 0.15257353 0.14848856 0.14338235 0.14562908\n",
      " 0.15236928 0.15400327 0.14971405 0.1621732  0.16319444 0.16584967\n",
      " 0.1647903  0.16679534 0.16770126 0.1681546 ]\n",
      "5 day output [[0.16844353]]\n",
      "6 day input [0.14011438 0.1380719  0.13071895 0.13071895 0.12867647 0.11846405\n",
      " 0.14644608 0.14808007 0.15910948 0.15992647 0.15788399 0.16441993\n",
      " 0.17892157 0.17933007 0.19260621 0.20812908 0.18974673 0.18055556\n",
      " 0.18239379 0.17708333 0.17810458 0.18055556 0.17810458 0.17851307\n",
      " 0.19607843 0.18913399 0.18954248 0.19403595 0.19444444 0.20200163\n",
      " 0.19771242 0.19934641 0.19873366 0.1997549  0.2128268  0.21568627\n",
      " 0.20445261 0.21772876 0.21098856 0.21425654 0.19750817 0.18811275\n",
      " 0.17851307 0.17381536 0.16033497 0.16564542 0.17116013 0.17422386\n",
      " 0.18035131 0.17401961 0.16278595 0.16973039 0.17810458 0.17034314\n",
      " 0.16830065 0.17279412 0.17544935 0.18382353 0.19138072 0.18913399\n",
      " 0.19097222 0.17238562 0.16830065 0.1693219  0.17177288 0.16156046\n",
      " 0.14971405 0.1503268  0.15196078 0.14726307 0.14501634 0.14603758\n",
      " 0.12479575 0.13112745 0.11397059 0.1190768  0.12377451 0.13562092\n",
      " 0.12908497 0.13459967 0.12806373 0.13031046 0.12724673 0.13521242\n",
      " 0.14522059 0.15257353 0.14848856 0.14338235 0.14562908 0.15236928\n",
      " 0.15400327 0.14971405 0.1621732  0.16319444 0.16584967 0.1647903\n",
      " 0.16679534 0.16770126 0.1681546  0.16844353]\n",
      "6 day output [[0.16867763]]\n",
      "7 day input [0.1380719  0.13071895 0.13071895 0.12867647 0.11846405 0.14644608\n",
      " 0.14808007 0.15910948 0.15992647 0.15788399 0.16441993 0.17892157\n",
      " 0.17933007 0.19260621 0.20812908 0.18974673 0.18055556 0.18239379\n",
      " 0.17708333 0.17810458 0.18055556 0.17810458 0.17851307 0.19607843\n",
      " 0.18913399 0.18954248 0.19403595 0.19444444 0.20200163 0.19771242\n",
      " 0.19934641 0.19873366 0.1997549  0.2128268  0.21568627 0.20445261\n",
      " 0.21772876 0.21098856 0.21425654 0.19750817 0.18811275 0.17851307\n",
      " 0.17381536 0.16033497 0.16564542 0.17116013 0.17422386 0.18035131\n",
      " 0.17401961 0.16278595 0.16973039 0.17810458 0.17034314 0.16830065\n",
      " 0.17279412 0.17544935 0.18382353 0.19138072 0.18913399 0.19097222\n",
      " 0.17238562 0.16830065 0.1693219  0.17177288 0.16156046 0.14971405\n",
      " 0.1503268  0.15196078 0.14726307 0.14501634 0.14603758 0.12479575\n",
      " 0.13112745 0.11397059 0.1190768  0.12377451 0.13562092 0.12908497\n",
      " 0.13459967 0.12806373 0.13031046 0.12724673 0.13521242 0.14522059\n",
      " 0.15257353 0.14848856 0.14338235 0.14562908 0.15236928 0.15400327\n",
      " 0.14971405 0.1621732  0.16319444 0.16584967 0.1647903  0.16679534\n",
      " 0.16770126 0.1681546  0.16844353 0.16867763]\n",
      "7 day output [[0.16890317]]\n",
      "8 day input [0.13071895 0.13071895 0.12867647 0.11846405 0.14644608 0.14808007\n",
      " 0.15910948 0.15992647 0.15788399 0.16441993 0.17892157 0.17933007\n",
      " 0.19260621 0.20812908 0.18974673 0.18055556 0.18239379 0.17708333\n",
      " 0.17810458 0.18055556 0.17810458 0.17851307 0.19607843 0.18913399\n",
      " 0.18954248 0.19403595 0.19444444 0.20200163 0.19771242 0.19934641\n",
      " 0.19873366 0.1997549  0.2128268  0.21568627 0.20445261 0.21772876\n",
      " 0.21098856 0.21425654 0.19750817 0.18811275 0.17851307 0.17381536\n",
      " 0.16033497 0.16564542 0.17116013 0.17422386 0.18035131 0.17401961\n",
      " 0.16278595 0.16973039 0.17810458 0.17034314 0.16830065 0.17279412\n",
      " 0.17544935 0.18382353 0.19138072 0.18913399 0.19097222 0.17238562\n",
      " 0.16830065 0.1693219  0.17177288 0.16156046 0.14971405 0.1503268\n",
      " 0.15196078 0.14726307 0.14501634 0.14603758 0.12479575 0.13112745\n",
      " 0.11397059 0.1190768  0.12377451 0.13562092 0.12908497 0.13459967\n",
      " 0.12806373 0.13031046 0.12724673 0.13521242 0.14522059 0.15257353\n",
      " 0.14848856 0.14338235 0.14562908 0.15236928 0.15400327 0.14971405\n",
      " 0.1621732  0.16319444 0.16584967 0.1647903  0.16679534 0.16770126\n",
      " 0.1681546  0.16844353 0.16867763 0.16890317]\n",
      "8 day output [[0.16914226]]\n",
      "9 day input [0.13071895 0.12867647 0.11846405 0.14644608 0.14808007 0.15910948\n",
      " 0.15992647 0.15788399 0.16441993 0.17892157 0.17933007 0.19260621\n",
      " 0.20812908 0.18974673 0.18055556 0.18239379 0.17708333 0.17810458\n",
      " 0.18055556 0.17810458 0.17851307 0.19607843 0.18913399 0.18954248\n",
      " 0.19403595 0.19444444 0.20200163 0.19771242 0.19934641 0.19873366\n",
      " 0.1997549  0.2128268  0.21568627 0.20445261 0.21772876 0.21098856\n",
      " 0.21425654 0.19750817 0.18811275 0.17851307 0.17381536 0.16033497\n",
      " 0.16564542 0.17116013 0.17422386 0.18035131 0.17401961 0.16278595\n",
      " 0.16973039 0.17810458 0.17034314 0.16830065 0.17279412 0.17544935\n",
      " 0.18382353 0.19138072 0.18913399 0.19097222 0.17238562 0.16830065\n",
      " 0.1693219  0.17177288 0.16156046 0.14971405 0.1503268  0.15196078\n",
      " 0.14726307 0.14501634 0.14603758 0.12479575 0.13112745 0.11397059\n",
      " 0.1190768  0.12377451 0.13562092 0.12908497 0.13459967 0.12806373\n",
      " 0.13031046 0.12724673 0.13521242 0.14522059 0.15257353 0.14848856\n",
      " 0.14338235 0.14562908 0.15236928 0.15400327 0.14971405 0.1621732\n",
      " 0.16319444 0.16584967 0.1647903  0.16679534 0.16770126 0.1681546\n",
      " 0.16844353 0.16867763 0.16890317 0.16914226]\n",
      "9 day output [[0.16940315]]\n",
      "10 day input [0.12867647 0.11846405 0.14644608 0.14808007 0.15910948 0.15992647\n",
      " 0.15788399 0.16441993 0.17892157 0.17933007 0.19260621 0.20812908\n",
      " 0.18974673 0.18055556 0.18239379 0.17708333 0.17810458 0.18055556\n",
      " 0.17810458 0.17851307 0.19607843 0.18913399 0.18954248 0.19403595\n",
      " 0.19444444 0.20200163 0.19771242 0.19934641 0.19873366 0.1997549\n",
      " 0.2128268  0.21568627 0.20445261 0.21772876 0.21098856 0.21425654\n",
      " 0.19750817 0.18811275 0.17851307 0.17381536 0.16033497 0.16564542\n",
      " 0.17116013 0.17422386 0.18035131 0.17401961 0.16278595 0.16973039\n",
      " 0.17810458 0.17034314 0.16830065 0.17279412 0.17544935 0.18382353\n",
      " 0.19138072 0.18913399 0.19097222 0.17238562 0.16830065 0.1693219\n",
      " 0.17177288 0.16156046 0.14971405 0.1503268  0.15196078 0.14726307\n",
      " 0.14501634 0.14603758 0.12479575 0.13112745 0.11397059 0.1190768\n",
      " 0.12377451 0.13562092 0.12908497 0.13459967 0.12806373 0.13031046\n",
      " 0.12724673 0.13521242 0.14522059 0.15257353 0.14848856 0.14338235\n",
      " 0.14562908 0.15236928 0.15400327 0.14971405 0.1621732  0.16319444\n",
      " 0.16584967 0.1647903  0.16679534 0.16770126 0.1681546  0.16844353\n",
      " 0.16867763 0.16890317 0.16914226 0.16940315]\n",
      "10 day output [[0.16968492]]\n",
      "11 day input [0.11846405 0.14644608 0.14808007 0.15910948 0.15992647 0.15788399\n",
      " 0.16441993 0.17892157 0.17933007 0.19260621 0.20812908 0.18974673\n",
      " 0.18055556 0.18239379 0.17708333 0.17810458 0.18055556 0.17810458\n",
      " 0.17851307 0.19607843 0.18913399 0.18954248 0.19403595 0.19444444\n",
      " 0.20200163 0.19771242 0.19934641 0.19873366 0.1997549  0.2128268\n",
      " 0.21568627 0.20445261 0.21772876 0.21098856 0.21425654 0.19750817\n",
      " 0.18811275 0.17851307 0.17381536 0.16033497 0.16564542 0.17116013\n",
      " 0.17422386 0.18035131 0.17401961 0.16278595 0.16973039 0.17810458\n",
      " 0.17034314 0.16830065 0.17279412 0.17544935 0.18382353 0.19138072\n",
      " 0.18913399 0.19097222 0.17238562 0.16830065 0.1693219  0.17177288\n",
      " 0.16156046 0.14971405 0.1503268  0.15196078 0.14726307 0.14501634\n",
      " 0.14603758 0.12479575 0.13112745 0.11397059 0.1190768  0.12377451\n",
      " 0.13562092 0.12908497 0.13459967 0.12806373 0.13031046 0.12724673\n",
      " 0.13521242 0.14522059 0.15257353 0.14848856 0.14338235 0.14562908\n",
      " 0.15236928 0.15400327 0.14971405 0.1621732  0.16319444 0.16584967\n",
      " 0.1647903  0.16679534 0.16770126 0.1681546  0.16844353 0.16867763\n",
      " 0.16890317 0.16914226 0.16940315 0.16968492]\n",
      "11 day output [[0.16998202]]\n",
      "12 day input [0.14644608 0.14808007 0.15910948 0.15992647 0.15788399 0.16441993\n",
      " 0.17892157 0.17933007 0.19260621 0.20812908 0.18974673 0.18055556\n",
      " 0.18239379 0.17708333 0.17810458 0.18055556 0.17810458 0.17851307\n",
      " 0.19607843 0.18913399 0.18954248 0.19403595 0.19444444 0.20200163\n",
      " 0.19771242 0.19934641 0.19873366 0.1997549  0.2128268  0.21568627\n",
      " 0.20445261 0.21772876 0.21098856 0.21425654 0.19750817 0.18811275\n",
      " 0.17851307 0.17381536 0.16033497 0.16564542 0.17116013 0.17422386\n",
      " 0.18035131 0.17401961 0.16278595 0.16973039 0.17810458 0.17034314\n",
      " 0.16830065 0.17279412 0.17544935 0.18382353 0.19138072 0.18913399\n",
      " 0.19097222 0.17238562 0.16830065 0.1693219  0.17177288 0.16156046\n",
      " 0.14971405 0.1503268  0.15196078 0.14726307 0.14501634 0.14603758\n",
      " 0.12479575 0.13112745 0.11397059 0.1190768  0.12377451 0.13562092\n",
      " 0.12908497 0.13459967 0.12806373 0.13031046 0.12724673 0.13521242\n",
      " 0.14522059 0.15257353 0.14848856 0.14338235 0.14562908 0.15236928\n",
      " 0.15400327 0.14971405 0.1621732  0.16319444 0.16584967 0.1647903\n",
      " 0.16679534 0.16770126 0.1681546  0.16844353 0.16867763 0.16890317\n",
      " 0.16914226 0.16940315 0.16968492 0.16998202]\n",
      "12 day output [[0.17028768]]\n",
      "13 day input [0.14808007 0.15910948 0.15992647 0.15788399 0.16441993 0.17892157\n",
      " 0.17933007 0.19260621 0.20812908 0.18974673 0.18055556 0.18239379\n",
      " 0.17708333 0.17810458 0.18055556 0.17810458 0.17851307 0.19607843\n",
      " 0.18913399 0.18954248 0.19403595 0.19444444 0.20200163 0.19771242\n",
      " 0.19934641 0.19873366 0.1997549  0.2128268  0.21568627 0.20445261\n",
      " 0.21772876 0.21098856 0.21425654 0.19750817 0.18811275 0.17851307\n",
      " 0.17381536 0.16033497 0.16564542 0.17116013 0.17422386 0.18035131\n",
      " 0.17401961 0.16278595 0.16973039 0.17810458 0.17034314 0.16830065\n",
      " 0.17279412 0.17544935 0.18382353 0.19138072 0.18913399 0.19097222\n",
      " 0.17238562 0.16830065 0.1693219  0.17177288 0.16156046 0.14971405\n",
      " 0.1503268  0.15196078 0.14726307 0.14501634 0.14603758 0.12479575\n",
      " 0.13112745 0.11397059 0.1190768  0.12377451 0.13562092 0.12908497\n",
      " 0.13459967 0.12806373 0.13031046 0.12724673 0.13521242 0.14522059\n",
      " 0.15257353 0.14848856 0.14338235 0.14562908 0.15236928 0.15400327\n",
      " 0.14971405 0.1621732  0.16319444 0.16584967 0.1647903  0.16679534\n",
      " 0.16770126 0.1681546  0.16844353 0.16867763 0.16890317 0.16914226\n",
      " 0.16940315 0.16968492 0.16998202 0.17028768]\n"
     ]
    },
    {
     "name": "stdout",
     "output_type": "stream",
     "text": [
      "13 day output [[0.17059647]]\n",
      "14 day input [0.15910948 0.15992647 0.15788399 0.16441993 0.17892157 0.17933007\n",
      " 0.19260621 0.20812908 0.18974673 0.18055556 0.18239379 0.17708333\n",
      " 0.17810458 0.18055556 0.17810458 0.17851307 0.19607843 0.18913399\n",
      " 0.18954248 0.19403595 0.19444444 0.20200163 0.19771242 0.19934641\n",
      " 0.19873366 0.1997549  0.2128268  0.21568627 0.20445261 0.21772876\n",
      " 0.21098856 0.21425654 0.19750817 0.18811275 0.17851307 0.17381536\n",
      " 0.16033497 0.16564542 0.17116013 0.17422386 0.18035131 0.17401961\n",
      " 0.16278595 0.16973039 0.17810458 0.17034314 0.16830065 0.17279412\n",
      " 0.17544935 0.18382353 0.19138072 0.18913399 0.19097222 0.17238562\n",
      " 0.16830065 0.1693219  0.17177288 0.16156046 0.14971405 0.1503268\n",
      " 0.15196078 0.14726307 0.14501634 0.14603758 0.12479575 0.13112745\n",
      " 0.11397059 0.1190768  0.12377451 0.13562092 0.12908497 0.13459967\n",
      " 0.12806373 0.13031046 0.12724673 0.13521242 0.14522059 0.15257353\n",
      " 0.14848856 0.14338235 0.14562908 0.15236928 0.15400327 0.14971405\n",
      " 0.1621732  0.16319444 0.16584967 0.1647903  0.16679534 0.16770126\n",
      " 0.1681546  0.16844353 0.16867763 0.16890317 0.16914226 0.16940315\n",
      " 0.16968492 0.16998202 0.17028768 0.17059647]\n",
      "14 day output [[0.1709055]]\n",
      "15 day input [0.15992647 0.15788399 0.16441993 0.17892157 0.17933007 0.19260621\n",
      " 0.20812908 0.18974673 0.18055556 0.18239379 0.17708333 0.17810458\n",
      " 0.18055556 0.17810458 0.17851307 0.19607843 0.18913399 0.18954248\n",
      " 0.19403595 0.19444444 0.20200163 0.19771242 0.19934641 0.19873366\n",
      " 0.1997549  0.2128268  0.21568627 0.20445261 0.21772876 0.21098856\n",
      " 0.21425654 0.19750817 0.18811275 0.17851307 0.17381536 0.16033497\n",
      " 0.16564542 0.17116013 0.17422386 0.18035131 0.17401961 0.16278595\n",
      " 0.16973039 0.17810458 0.17034314 0.16830065 0.17279412 0.17544935\n",
      " 0.18382353 0.19138072 0.18913399 0.19097222 0.17238562 0.16830065\n",
      " 0.1693219  0.17177288 0.16156046 0.14971405 0.1503268  0.15196078\n",
      " 0.14726307 0.14501634 0.14603758 0.12479575 0.13112745 0.11397059\n",
      " 0.1190768  0.12377451 0.13562092 0.12908497 0.13459967 0.12806373\n",
      " 0.13031046 0.12724673 0.13521242 0.14522059 0.15257353 0.14848856\n",
      " 0.14338235 0.14562908 0.15236928 0.15400327 0.14971405 0.1621732\n",
      " 0.16319444 0.16584967 0.1647903  0.16679534 0.16770126 0.1681546\n",
      " 0.16844353 0.16867763 0.16890317 0.16914226 0.16940315 0.16968492\n",
      " 0.16998202 0.17028768 0.17059647 0.1709055 ]\n",
      "15 day output [[0.17121439]]\n",
      "16 day input [0.15788399 0.16441993 0.17892157 0.17933007 0.19260621 0.20812908\n",
      " 0.18974673 0.18055556 0.18239379 0.17708333 0.17810458 0.18055556\n",
      " 0.17810458 0.17851307 0.19607843 0.18913399 0.18954248 0.19403595\n",
      " 0.19444444 0.20200163 0.19771242 0.19934641 0.19873366 0.1997549\n",
      " 0.2128268  0.21568627 0.20445261 0.21772876 0.21098856 0.21425654\n",
      " 0.19750817 0.18811275 0.17851307 0.17381536 0.16033497 0.16564542\n",
      " 0.17116013 0.17422386 0.18035131 0.17401961 0.16278595 0.16973039\n",
      " 0.17810458 0.17034314 0.16830065 0.17279412 0.17544935 0.18382353\n",
      " 0.19138072 0.18913399 0.19097222 0.17238562 0.16830065 0.1693219\n",
      " 0.17177288 0.16156046 0.14971405 0.1503268  0.15196078 0.14726307\n",
      " 0.14501634 0.14603758 0.12479575 0.13112745 0.11397059 0.1190768\n",
      " 0.12377451 0.13562092 0.12908497 0.13459967 0.12806373 0.13031046\n",
      " 0.12724673 0.13521242 0.14522059 0.15257353 0.14848856 0.14338235\n",
      " 0.14562908 0.15236928 0.15400327 0.14971405 0.1621732  0.16319444\n",
      " 0.16584967 0.1647903  0.16679534 0.16770126 0.1681546  0.16844353\n",
      " 0.16867763 0.16890317 0.16914226 0.16940315 0.16968492 0.16998202\n",
      " 0.17028768 0.17059647 0.1709055  0.17121439]\n",
      "16 day output [[0.17152458]]\n",
      "17 day input [0.16441993 0.17892157 0.17933007 0.19260621 0.20812908 0.18974673\n",
      " 0.18055556 0.18239379 0.17708333 0.17810458 0.18055556 0.17810458\n",
      " 0.17851307 0.19607843 0.18913399 0.18954248 0.19403595 0.19444444\n",
      " 0.20200163 0.19771242 0.19934641 0.19873366 0.1997549  0.2128268\n",
      " 0.21568627 0.20445261 0.21772876 0.21098856 0.21425654 0.19750817\n",
      " 0.18811275 0.17851307 0.17381536 0.16033497 0.16564542 0.17116013\n",
      " 0.17422386 0.18035131 0.17401961 0.16278595 0.16973039 0.17810458\n",
      " 0.17034314 0.16830065 0.17279412 0.17544935 0.18382353 0.19138072\n",
      " 0.18913399 0.19097222 0.17238562 0.16830065 0.1693219  0.17177288\n",
      " 0.16156046 0.14971405 0.1503268  0.15196078 0.14726307 0.14501634\n",
      " 0.14603758 0.12479575 0.13112745 0.11397059 0.1190768  0.12377451\n",
      " 0.13562092 0.12908497 0.13459967 0.12806373 0.13031046 0.12724673\n",
      " 0.13521242 0.14522059 0.15257353 0.14848856 0.14338235 0.14562908\n",
      " 0.15236928 0.15400327 0.14971405 0.1621732  0.16319444 0.16584967\n",
      " 0.1647903  0.16679534 0.16770126 0.1681546  0.16844353 0.16867763\n",
      " 0.16890317 0.16914226 0.16940315 0.16968492 0.16998202 0.17028768\n",
      " 0.17059647 0.1709055  0.17121439 0.17152458]\n",
      "17 day output [[0.17183895]]\n",
      "18 day input [0.17892157 0.17933007 0.19260621 0.20812908 0.18974673 0.18055556\n",
      " 0.18239379 0.17708333 0.17810458 0.18055556 0.17810458 0.17851307\n",
      " 0.19607843 0.18913399 0.18954248 0.19403595 0.19444444 0.20200163\n",
      " 0.19771242 0.19934641 0.19873366 0.1997549  0.2128268  0.21568627\n",
      " 0.20445261 0.21772876 0.21098856 0.21425654 0.19750817 0.18811275\n",
      " 0.17851307 0.17381536 0.16033497 0.16564542 0.17116013 0.17422386\n",
      " 0.18035131 0.17401961 0.16278595 0.16973039 0.17810458 0.17034314\n",
      " 0.16830065 0.17279412 0.17544935 0.18382353 0.19138072 0.18913399\n",
      " 0.19097222 0.17238562 0.16830065 0.1693219  0.17177288 0.16156046\n",
      " 0.14971405 0.1503268  0.15196078 0.14726307 0.14501634 0.14603758\n",
      " 0.12479575 0.13112745 0.11397059 0.1190768  0.12377451 0.13562092\n",
      " 0.12908497 0.13459967 0.12806373 0.13031046 0.12724673 0.13521242\n",
      " 0.14522059 0.15257353 0.14848856 0.14338235 0.14562908 0.15236928\n",
      " 0.15400327 0.14971405 0.1621732  0.16319444 0.16584967 0.1647903\n",
      " 0.16679534 0.16770126 0.1681546  0.16844353 0.16867763 0.16890317\n",
      " 0.16914226 0.16940315 0.16968492 0.16998202 0.17028768 0.17059647\n",
      " 0.1709055  0.17121439 0.17152458 0.17183895]\n",
      "18 day output [[0.17216028]]\n",
      "19 day input [0.17933007 0.19260621 0.20812908 0.18974673 0.18055556 0.18239379\n",
      " 0.17708333 0.17810458 0.18055556 0.17810458 0.17851307 0.19607843\n",
      " 0.18913399 0.18954248 0.19403595 0.19444444 0.20200163 0.19771242\n",
      " 0.19934641 0.19873366 0.1997549  0.2128268  0.21568627 0.20445261\n",
      " 0.21772876 0.21098856 0.21425654 0.19750817 0.18811275 0.17851307\n",
      " 0.17381536 0.16033497 0.16564542 0.17116013 0.17422386 0.18035131\n",
      " 0.17401961 0.16278595 0.16973039 0.17810458 0.17034314 0.16830065\n",
      " 0.17279412 0.17544935 0.18382353 0.19138072 0.18913399 0.19097222\n",
      " 0.17238562 0.16830065 0.1693219  0.17177288 0.16156046 0.14971405\n",
      " 0.1503268  0.15196078 0.14726307 0.14501634 0.14603758 0.12479575\n",
      " 0.13112745 0.11397059 0.1190768  0.12377451 0.13562092 0.12908497\n",
      " 0.13459967 0.12806373 0.13031046 0.12724673 0.13521242 0.14522059\n",
      " 0.15257353 0.14848856 0.14338235 0.14562908 0.15236928 0.15400327\n",
      " 0.14971405 0.1621732  0.16319444 0.16584967 0.1647903  0.16679534\n",
      " 0.16770126 0.1681546  0.16844353 0.16867763 0.16890317 0.16914226\n",
      " 0.16940315 0.16968492 0.16998202 0.17028768 0.17059647 0.1709055\n",
      " 0.17121439 0.17152458 0.17183895 0.17216028]\n",
      "19 day output [[0.1724912]]\n",
      "20 day input [0.19260621 0.20812908 0.18974673 0.18055556 0.18239379 0.17708333\n",
      " 0.17810458 0.18055556 0.17810458 0.17851307 0.19607843 0.18913399\n",
      " 0.18954248 0.19403595 0.19444444 0.20200163 0.19771242 0.19934641\n",
      " 0.19873366 0.1997549  0.2128268  0.21568627 0.20445261 0.21772876\n",
      " 0.21098856 0.21425654 0.19750817 0.18811275 0.17851307 0.17381536\n",
      " 0.16033497 0.16564542 0.17116013 0.17422386 0.18035131 0.17401961\n",
      " 0.16278595 0.16973039 0.17810458 0.17034314 0.16830065 0.17279412\n",
      " 0.17544935 0.18382353 0.19138072 0.18913399 0.19097222 0.17238562\n",
      " 0.16830065 0.1693219  0.17177288 0.16156046 0.14971405 0.1503268\n",
      " 0.15196078 0.14726307 0.14501634 0.14603758 0.12479575 0.13112745\n",
      " 0.11397059 0.1190768  0.12377451 0.13562092 0.12908497 0.13459967\n",
      " 0.12806373 0.13031046 0.12724673 0.13521242 0.14522059 0.15257353\n",
      " 0.14848856 0.14338235 0.14562908 0.15236928 0.15400327 0.14971405\n",
      " 0.1621732  0.16319444 0.16584967 0.1647903  0.16679534 0.16770126\n",
      " 0.1681546  0.16844353 0.16867763 0.16890317 0.16914226 0.16940315\n",
      " 0.16968492 0.16998202 0.17028768 0.17059647 0.1709055  0.17121439\n",
      " 0.17152458 0.17183895 0.17216028 0.17249119]\n",
      "20 day output [[0.17283343]]\n",
      "21 day input [0.20812908 0.18974673 0.18055556 0.18239379 0.17708333 0.17810458\n",
      " 0.18055556 0.17810458 0.17851307 0.19607843 0.18913399 0.18954248\n",
      " 0.19403595 0.19444444 0.20200163 0.19771242 0.19934641 0.19873366\n",
      " 0.1997549  0.2128268  0.21568627 0.20445261 0.21772876 0.21098856\n",
      " 0.21425654 0.19750817 0.18811275 0.17851307 0.17381536 0.16033497\n",
      " 0.16564542 0.17116013 0.17422386 0.18035131 0.17401961 0.16278595\n",
      " 0.16973039 0.17810458 0.17034314 0.16830065 0.17279412 0.17544935\n",
      " 0.18382353 0.19138072 0.18913399 0.19097222 0.17238562 0.16830065\n",
      " 0.1693219  0.17177288 0.16156046 0.14971405 0.1503268  0.15196078\n",
      " 0.14726307 0.14501634 0.14603758 0.12479575 0.13112745 0.11397059\n",
      " 0.1190768  0.12377451 0.13562092 0.12908497 0.13459967 0.12806373\n",
      " 0.13031046 0.12724673 0.13521242 0.14522059 0.15257353 0.14848856\n",
      " 0.14338235 0.14562908 0.15236928 0.15400327 0.14971405 0.1621732\n",
      " 0.16319444 0.16584967 0.1647903  0.16679534 0.16770126 0.1681546\n",
      " 0.16844353 0.16867763 0.16890317 0.16914226 0.16940315 0.16968492\n",
      " 0.16998202 0.17028768 0.17059647 0.1709055  0.17121439 0.17152458\n",
      " 0.17183895 0.17216028 0.17249119 0.17283343]\n",
      "21 day output [[0.1731877]]\n",
      "22 day input [0.18974673 0.18055556 0.18239379 0.17708333 0.17810458 0.18055556\n",
      " 0.17810458 0.17851307 0.19607843 0.18913399 0.18954248 0.19403595\n",
      " 0.19444444 0.20200163 0.19771242 0.19934641 0.19873366 0.1997549\n",
      " 0.2128268  0.21568627 0.20445261 0.21772876 0.21098856 0.21425654\n",
      " 0.19750817 0.18811275 0.17851307 0.17381536 0.16033497 0.16564542\n",
      " 0.17116013 0.17422386 0.18035131 0.17401961 0.16278595 0.16973039\n",
      " 0.17810458 0.17034314 0.16830065 0.17279412 0.17544935 0.18382353\n",
      " 0.19138072 0.18913399 0.19097222 0.17238562 0.16830065 0.1693219\n",
      " 0.17177288 0.16156046 0.14971405 0.1503268  0.15196078 0.14726307\n",
      " 0.14501634 0.14603758 0.12479575 0.13112745 0.11397059 0.1190768\n",
      " 0.12377451 0.13562092 0.12908497 0.13459967 0.12806373 0.13031046\n",
      " 0.12724673 0.13521242 0.14522059 0.15257353 0.14848856 0.14338235\n",
      " 0.14562908 0.15236928 0.15400327 0.14971405 0.1621732  0.16319444\n",
      " 0.16584967 0.1647903  0.16679534 0.16770126 0.1681546  0.16844353\n",
      " 0.16867763 0.16890317 0.16914226 0.16940315 0.16968492 0.16998202\n",
      " 0.17028768 0.17059647 0.1709055  0.17121439 0.17152458 0.17183895\n",
      " 0.17216028 0.17249119 0.17283343 0.1731877 ]\n",
      "22 day output [[0.17355385]]\n",
      "23 day input [0.18055556 0.18239379 0.17708333 0.17810458 0.18055556 0.17810458\n",
      " 0.17851307 0.19607843 0.18913399 0.18954248 0.19403595 0.19444444\n",
      " 0.20200163 0.19771242 0.19934641 0.19873366 0.1997549  0.2128268\n",
      " 0.21568627 0.20445261 0.21772876 0.21098856 0.21425654 0.19750817\n",
      " 0.18811275 0.17851307 0.17381536 0.16033497 0.16564542 0.17116013\n",
      " 0.17422386 0.18035131 0.17401961 0.16278595 0.16973039 0.17810458\n",
      " 0.17034314 0.16830065 0.17279412 0.17544935 0.18382353 0.19138072\n",
      " 0.18913399 0.19097222 0.17238562 0.16830065 0.1693219  0.17177288\n",
      " 0.16156046 0.14971405 0.1503268  0.15196078 0.14726307 0.14501634\n",
      " 0.14603758 0.12479575 0.13112745 0.11397059 0.1190768  0.12377451\n",
      " 0.13562092 0.12908497 0.13459967 0.12806373 0.13031046 0.12724673\n",
      " 0.13521242 0.14522059 0.15257353 0.14848856 0.14338235 0.14562908\n",
      " 0.15236928 0.15400327 0.14971405 0.1621732  0.16319444 0.16584967\n",
      " 0.1647903  0.16679534 0.16770126 0.1681546  0.16844353 0.16867763\n",
      " 0.16890317 0.16914226 0.16940315 0.16968492 0.16998202 0.17028768\n",
      " 0.17059647 0.1709055  0.17121439 0.17152458 0.17183895 0.17216028\n",
      " 0.17249119 0.17283343 0.1731877  0.17355385]\n",
      "23 day output [[0.17393084]]\n",
      "24 day input [0.18239379 0.17708333 0.17810458 0.18055556 0.17810458 0.17851307\n",
      " 0.19607843 0.18913399 0.18954248 0.19403595 0.19444444 0.20200163\n",
      " 0.19771242 0.19934641 0.19873366 0.1997549  0.2128268  0.21568627\n",
      " 0.20445261 0.21772876 0.21098856 0.21425654 0.19750817 0.18811275\n",
      " 0.17851307 0.17381536 0.16033497 0.16564542 0.17116013 0.17422386\n",
      " 0.18035131 0.17401961 0.16278595 0.16973039 0.17810458 0.17034314\n",
      " 0.16830065 0.17279412 0.17544935 0.18382353 0.19138072 0.18913399\n",
      " 0.19097222 0.17238562 0.16830065 0.1693219  0.17177288 0.16156046\n",
      " 0.14971405 0.1503268  0.15196078 0.14726307 0.14501634 0.14603758\n",
      " 0.12479575 0.13112745 0.11397059 0.1190768  0.12377451 0.13562092\n",
      " 0.12908497 0.13459967 0.12806373 0.13031046 0.12724673 0.13521242\n",
      " 0.14522059 0.15257353 0.14848856 0.14338235 0.14562908 0.15236928\n",
      " 0.15400327 0.14971405 0.1621732  0.16319444 0.16584967 0.1647903\n",
      " 0.16679534 0.16770126 0.1681546  0.16844353 0.16867763 0.16890317\n",
      " 0.16914226 0.16940315 0.16968492 0.16998202 0.17028768 0.17059647\n",
      " 0.1709055  0.17121439 0.17152458 0.17183895 0.17216028 0.17249119\n",
      " 0.17283343 0.1731877  0.17355385 0.17393084]\n",
      "24 day output [[0.1743171]]\n",
      "25 day input [0.17708333 0.17810458 0.18055556 0.17810458 0.17851307 0.19607843\n",
      " 0.18913399 0.18954248 0.19403595 0.19444444 0.20200163 0.19771242\n",
      " 0.19934641 0.19873366 0.1997549  0.2128268  0.21568627 0.20445261\n",
      " 0.21772876 0.21098856 0.21425654 0.19750817 0.18811275 0.17851307\n",
      " 0.17381536 0.16033497 0.16564542 0.17116013 0.17422386 0.18035131\n",
      " 0.17401961 0.16278595 0.16973039 0.17810458 0.17034314 0.16830065\n",
      " 0.17279412 0.17544935 0.18382353 0.19138072 0.18913399 0.19097222\n",
      " 0.17238562 0.16830065 0.1693219  0.17177288 0.16156046 0.14971405\n",
      " 0.1503268  0.15196078 0.14726307 0.14501634 0.14603758 0.12479575\n",
      " 0.13112745 0.11397059 0.1190768  0.12377451 0.13562092 0.12908497\n",
      " 0.13459967 0.12806373 0.13031046 0.12724673 0.13521242 0.14522059\n",
      " 0.15257353 0.14848856 0.14338235 0.14562908 0.15236928 0.15400327\n",
      " 0.14971405 0.1621732  0.16319444 0.16584967 0.1647903  0.16679534\n",
      " 0.16770126 0.1681546  0.16844353 0.16867763 0.16890317 0.16914226\n",
      " 0.16940315 0.16968492 0.16998202 0.17028768 0.17059647 0.1709055\n",
      " 0.17121439 0.17152458 0.17183895 0.17216028 0.17249119 0.17283343\n",
      " 0.1731877  0.17355385 0.17393084 0.17431711]\n"
     ]
    },
    {
     "name": "stdout",
     "output_type": "stream",
     "text": [
      "25 day output [[0.17471075]]\n",
      "26 day input [0.17810458 0.18055556 0.17810458 0.17851307 0.19607843 0.18913399\n",
      " 0.18954248 0.19403595 0.19444444 0.20200163 0.19771242 0.19934641\n",
      " 0.19873366 0.1997549  0.2128268  0.21568627 0.20445261 0.21772876\n",
      " 0.21098856 0.21425654 0.19750817 0.18811275 0.17851307 0.17381536\n",
      " 0.16033497 0.16564542 0.17116013 0.17422386 0.18035131 0.17401961\n",
      " 0.16278595 0.16973039 0.17810458 0.17034314 0.16830065 0.17279412\n",
      " 0.17544935 0.18382353 0.19138072 0.18913399 0.19097222 0.17238562\n",
      " 0.16830065 0.1693219  0.17177288 0.16156046 0.14971405 0.1503268\n",
      " 0.15196078 0.14726307 0.14501634 0.14603758 0.12479575 0.13112745\n",
      " 0.11397059 0.1190768  0.12377451 0.13562092 0.12908497 0.13459967\n",
      " 0.12806373 0.13031046 0.12724673 0.13521242 0.14522059 0.15257353\n",
      " 0.14848856 0.14338235 0.14562908 0.15236928 0.15400327 0.14971405\n",
      " 0.1621732  0.16319444 0.16584967 0.1647903  0.16679534 0.16770126\n",
      " 0.1681546  0.16844353 0.16867763 0.16890317 0.16914226 0.16940315\n",
      " 0.16968492 0.16998202 0.17028768 0.17059647 0.1709055  0.17121439\n",
      " 0.17152458 0.17183895 0.17216028 0.17249119 0.17283343 0.1731877\n",
      " 0.17355385 0.17393084 0.17431711 0.17471075]\n",
      "26 day output [[0.17510961]]\n",
      "27 day input [0.18055556 0.17810458 0.17851307 0.19607843 0.18913399 0.18954248\n",
      " 0.19403595 0.19444444 0.20200163 0.19771242 0.19934641 0.19873366\n",
      " 0.1997549  0.2128268  0.21568627 0.20445261 0.21772876 0.21098856\n",
      " 0.21425654 0.19750817 0.18811275 0.17851307 0.17381536 0.16033497\n",
      " 0.16564542 0.17116013 0.17422386 0.18035131 0.17401961 0.16278595\n",
      " 0.16973039 0.17810458 0.17034314 0.16830065 0.17279412 0.17544935\n",
      " 0.18382353 0.19138072 0.18913399 0.19097222 0.17238562 0.16830065\n",
      " 0.1693219  0.17177288 0.16156046 0.14971405 0.1503268  0.15196078\n",
      " 0.14726307 0.14501634 0.14603758 0.12479575 0.13112745 0.11397059\n",
      " 0.1190768  0.12377451 0.13562092 0.12908497 0.13459967 0.12806373\n",
      " 0.13031046 0.12724673 0.13521242 0.14522059 0.15257353 0.14848856\n",
      " 0.14338235 0.14562908 0.15236928 0.15400327 0.14971405 0.1621732\n",
      " 0.16319444 0.16584967 0.1647903  0.16679534 0.16770126 0.1681546\n",
      " 0.16844353 0.16867763 0.16890317 0.16914226 0.16940315 0.16968492\n",
      " 0.16998202 0.17028768 0.17059647 0.1709055  0.17121439 0.17152458\n",
      " 0.17183895 0.17216028 0.17249119 0.17283343 0.1731877  0.17355385\n",
      " 0.17393084 0.17431711 0.17471075 0.17510961]\n",
      "27 day output [[0.17551182]]\n",
      "28 day input [0.17810458 0.17851307 0.19607843 0.18913399 0.18954248 0.19403595\n",
      " 0.19444444 0.20200163 0.19771242 0.19934641 0.19873366 0.1997549\n",
      " 0.2128268  0.21568627 0.20445261 0.21772876 0.21098856 0.21425654\n",
      " 0.19750817 0.18811275 0.17851307 0.17381536 0.16033497 0.16564542\n",
      " 0.17116013 0.17422386 0.18035131 0.17401961 0.16278595 0.16973039\n",
      " 0.17810458 0.17034314 0.16830065 0.17279412 0.17544935 0.18382353\n",
      " 0.19138072 0.18913399 0.19097222 0.17238562 0.16830065 0.1693219\n",
      " 0.17177288 0.16156046 0.14971405 0.1503268  0.15196078 0.14726307\n",
      " 0.14501634 0.14603758 0.12479575 0.13112745 0.11397059 0.1190768\n",
      " 0.12377451 0.13562092 0.12908497 0.13459967 0.12806373 0.13031046\n",
      " 0.12724673 0.13521242 0.14522059 0.15257353 0.14848856 0.14338235\n",
      " 0.14562908 0.15236928 0.15400327 0.14971405 0.1621732  0.16319444\n",
      " 0.16584967 0.1647903  0.16679534 0.16770126 0.1681546  0.16844353\n",
      " 0.16867763 0.16890317 0.16914226 0.16940315 0.16968492 0.16998202\n",
      " 0.17028768 0.17059647 0.1709055  0.17121439 0.17152458 0.17183895\n",
      " 0.17216028 0.17249119 0.17283343 0.1731877  0.17355385 0.17393084\n",
      " 0.17431711 0.17471075 0.17510961 0.17551182]\n",
      "28 day output [[0.17591546]]\n",
      "29 day input [0.17851307 0.19607843 0.18913399 0.18954248 0.19403595 0.19444444\n",
      " 0.20200163 0.19771242 0.19934641 0.19873366 0.1997549  0.2128268\n",
      " 0.21568627 0.20445261 0.21772876 0.21098856 0.21425654 0.19750817\n",
      " 0.18811275 0.17851307 0.17381536 0.16033497 0.16564542 0.17116013\n",
      " 0.17422386 0.18035131 0.17401961 0.16278595 0.16973039 0.17810458\n",
      " 0.17034314 0.16830065 0.17279412 0.17544935 0.18382353 0.19138072\n",
      " 0.18913399 0.19097222 0.17238562 0.16830065 0.1693219  0.17177288\n",
      " 0.16156046 0.14971405 0.1503268  0.15196078 0.14726307 0.14501634\n",
      " 0.14603758 0.12479575 0.13112745 0.11397059 0.1190768  0.12377451\n",
      " 0.13562092 0.12908497 0.13459967 0.12806373 0.13031046 0.12724673\n",
      " 0.13521242 0.14522059 0.15257353 0.14848856 0.14338235 0.14562908\n",
      " 0.15236928 0.15400327 0.14971405 0.1621732  0.16319444 0.16584967\n",
      " 0.1647903  0.16679534 0.16770126 0.1681546  0.16844353 0.16867763\n",
      " 0.16890317 0.16914226 0.16940315 0.16968492 0.16998202 0.17028768\n",
      " 0.17059647 0.1709055  0.17121439 0.17152458 0.17183895 0.17216028\n",
      " 0.17249119 0.17283343 0.1731877  0.17355385 0.17393084 0.17431711\n",
      " 0.17471075 0.17510961 0.17551182 0.17591546]\n",
      "29 day output [[0.17631902]]\n",
      "30 day input [0.19607843 0.18913399 0.18954248 0.19403595 0.19444444 0.20200163\n",
      " 0.19771242 0.19934641 0.19873366 0.1997549  0.2128268  0.21568627\n",
      " 0.20445261 0.21772876 0.21098856 0.21425654 0.19750817 0.18811275\n",
      " 0.17851307 0.17381536 0.16033497 0.16564542 0.17116013 0.17422386\n",
      " 0.18035131 0.17401961 0.16278595 0.16973039 0.17810458 0.17034314\n",
      " 0.16830065 0.17279412 0.17544935 0.18382353 0.19138072 0.18913399\n",
      " 0.19097222 0.17238562 0.16830065 0.1693219  0.17177288 0.16156046\n",
      " 0.14971405 0.1503268  0.15196078 0.14726307 0.14501634 0.14603758\n",
      " 0.12479575 0.13112745 0.11397059 0.1190768  0.12377451 0.13562092\n",
      " 0.12908497 0.13459967 0.12806373 0.13031046 0.12724673 0.13521242\n",
      " 0.14522059 0.15257353 0.14848856 0.14338235 0.14562908 0.15236928\n",
      " 0.15400327 0.14971405 0.1621732  0.16319444 0.16584967 0.1647903\n",
      " 0.16679534 0.16770126 0.1681546  0.16844353 0.16867763 0.16890317\n",
      " 0.16914226 0.16940315 0.16968492 0.16998202 0.17028768 0.17059647\n",
      " 0.1709055  0.17121439 0.17152458 0.17183895 0.17216028 0.17249119\n",
      " 0.17283343 0.1731877  0.17355385 0.17393084 0.17431711 0.17471075\n",
      " 0.17510961 0.17551182 0.17591546 0.17631902]\n",
      "30 day output [[0.17672104]]\n",
      "[[0.1647903025150299], [0.16679534316062927], [0.16770125925540924], [0.16815459728240967], [0.16844353079795837], [0.16867762804031372], [0.1689031720161438], [0.16914226114749908], [0.16940315067768097], [0.16968491673469543], [0.16998201608657837], [0.17028768360614777], [0.17059646546840668], [0.17090550065040588], [0.17121438682079315], [0.17152458429336548], [0.17183895409107208], [0.1721602827310562], [0.172491192817688], [0.1728334277868271], [0.17318770289421082], [0.17355385422706604], [0.1739308387041092], [0.1743171066045761], [0.17471075057983398], [0.1751096099615097], [0.17551182210445404], [0.17591546475887299], [0.17631901800632477], [0.17672103643417358]]\n"
     ]
    }
   ],
   "source": [
    "from numpy import array\n",
    "\n",
    "final_output=[]\n",
    "n_steps=100\n",
    "i=1\n",
    "while(i<=30):\n",
    "    \n",
    "    if(len(temp_input)>100):\n",
    "        x_input=np.array(temp_input[1:])\n",
    "        print(\"{} day input {}\".format(i,x_input))\n",
    "        x_input=x_input.reshape(1,-1)\n",
    "        x_input = x_input.reshape((1, n_steps, 1))\n",
    "        ypred = model.predict(x_input, verbose=0)\n",
    "        print(\"{} day output {}\".format(i,ypred))\n",
    "        temp_input.extend(ypred[0].tolist())\n",
    "        temp_input=temp_input[1:]\n",
    "        final_output.extend(ypred.tolist())\n",
    "        i=i+1\n",
    "    else:\n",
    "        x_input = x_input.reshape((1, n_steps,1))\n",
    "        ypred = model.predict(x_input, verbose=0)\n",
    "        print(ypred[0])\n",
    "        temp_input.extend(ypred[0].tolist())\n",
    "        print(len(temp_input))\n",
    "        final_output.extend(ypred.tolist())\n",
    "        i=i+1\n",
    "    \n",
    "\n",
    "print(final_output)"
   ]
  },
  {
   "cell_type": "code",
   "execution_count": 33,
   "metadata": {
    "colab": {
     "base_uri": "https://localhost:8080/",
     "height": 282
    },
    "id": "Zv6QjJZ42YDk",
    "outputId": "ddfc5a36-6297-45e3-e3ed-da93e425e9c0"
   },
   "outputs": [
    {
     "data": {
      "text/plain": [
       "[<matplotlib.lines.Line2D at 0x2044bce7d08>]"
      ]
     },
     "execution_count": 33,
     "metadata": {},
     "output_type": "execute_result"
    },
    {
     "data": {
      "image/png": "[encoded data removed]",
      "text/plain": [
       "<Figure size 432x288 with 1 Axes>"
      ]
     },
     "metadata": {
      "needs_background": "light"
     },
     "output_type": "display_data"
    }
   ],
   "source": [
    "stock_data = stock_data1.tolist()\n",
    "stock_data.extend(final_output)\n",
    "stock_data = scaler.inverse_transform(stock_data).tolist()\n",
    "plt.plot(stock_data)"
   ]
  },
  {
   "cell_type": "code",
   "execution_count": null,
   "metadata": {},
   "outputs": [],
   "source": []
  }
 ],
 "metadata": {
  "colab": {
   "authorship_tag": "ABX9TyNwK1usGkPdDoidCGnu2bWw",
   "collapsed_sections": [],
   "include_colab_link": true,
   "name": "Beginner Level - Task 2 - Stock Market Prediction And Forecasting Using Stacked LSTM.ipynb",
   "provenance": []
  },
  "kernelspec": {
   "display_name": "Python 3",
   "language": "python",
   "name": "python3"
  },
  "language_info": {
   "codemirror_mode": {
    "name": "ipython",
    "version": 3
   },
   "file_extension": ".py",
   "mimetype": "text/x-python",
   "name": "python",
   "nbconvert_exporter": "python",
   "pygments_lexer": "ipython3",
   "version": "3.7.6"
  }
 },
 "nbformat": 4,
 "nbformat_minor": 1
}
